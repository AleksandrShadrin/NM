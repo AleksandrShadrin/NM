{
 "cells": [
  {
   "cell_type": "code",
   "execution_count": 2,
   "metadata": {},
   "outputs": [
    {
     "data": {
      "text/plain": [
       "L        1.0\n",
       "c        1.0\n",
       "T        0.1\n",
       "delta    0.0\n",
       "dtype: float64"
      ]
     },
     "execution_count": 2,
     "metadata": {},
     "output_type": "execute_result"
    }
   ],
   "source": [
    "import pandas as pd\n",
    "import numpy as np\n",
    "\n",
    "data = pd.Series(data = {\n",
    "    'L':1,\n",
    "    'c':1,\n",
    "    'T':0.1,\n",
    "    'delta': 0\n",
    "})\n",
    "\n",
    "data"
   ]
  },
  {
   "cell_type": "code",
   "execution_count": 3,
   "metadata": {},
   "outputs": [],
   "source": [
    "def u0(x: float) -> float: return 1 - x\n",
    "def u1(x: float) -> float: return 0\n",
    "def m1(t: float) -> float: return 1\n",
    "def m2(t: float) -> float: return 0\n",
    "def f(t:float, x: float) -> float: return 2\n",
    "def tau(h: float) -> float: return  h / data['c']"
   ]
  },
  {
   "cell_type": "markdown",
   "metadata": {},
   "source": [
    "### Отображение сетки"
   ]
  },
  {
   "cell_type": "code",
   "execution_count": 4,
   "metadata": {},
   "outputs": [],
   "source": [
    "import matplotlib.pyplot as plt\n",
    "\n",
    "def print_contour(df: pd.DataFrame) -> None:\n",
    "    plt.style.use('_mpl-gallery-nogrid')\n",
    "    fig, ax = plt.subplots()\n",
    "    X, Y = np.meshgrid(df.columns, df.index)\n",
    "    Z = df.values\n",
    "\n",
    "    contour = ax.contourf(X, Y, Z)\n",
    "    cbar = fig.colorbar(contour)\n",
    "    fig.set_figheight(4)\n",
    "    fig.set_figwidth(6)\n",
    "    ax.set_xlabel('$x_i$')\n",
    "    ax.set_ylabel('$t_n$')\n",
    "    fig.tight_layout()"
   ]
  },
  {
   "cell_type": "markdown",
   "metadata": {},
   "source": [
    "### Метод прогонки"
   ]
  },
  {
   "cell_type": "code",
   "execution_count": 5,
   "metadata": {},
   "outputs": [],
   "source": [
    "def TDMA(a, b, c, d, tn_next):\n",
    "    _m1 = m1(tn_next)\n",
    "    _m2 = m2(tn_next)\n",
    "\n",
    "    n = len(d)\n",
    "\n",
    "    alpha = np.zeros(n+1)\n",
    "    beta = np.zeros(n+1)\n",
    "    beta[0] = _m1\n",
    "    res = np.zeros(n+1)\n",
    "    res[-1] = _m2\n",
    "\n",
    "    for i in np.arange(1, n+1):\n",
    "        alpha[i] = b[i-1] / (c[i-1] - alpha[i-1] * a[i-1])\n",
    "\n",
    "    for i in np.arange(1, n+1):\n",
    "        beta[i] = (a[i-1]*beta[i-1] + d[i-1]) / (c[i-1] - alpha[i-1] * a[i-1])\n",
    "\n",
    "    for i in np.arange(n-1, -1, -1):\n",
    "        res[i] = alpha[i+1]*res[i+1] + beta[i+1]\n",
    "\n",
    "    res = np.append(_m1, res)\n",
    "\n",
    "    return res"
   ]
  },
  {
   "cell_type": "code",
   "execution_count": 6,
   "metadata": {},
   "outputs": [],
   "source": [
    "from scipy.misc import derivative\n",
    "\n",
    "def _implicit_scheme(y_current: list, y_prev: list, tn_current: float, h: float, tau_v: float) -> list:\n",
    "    gamma = -data['c']**2 / h**2\n",
    "    d = np.array([1 / tau_v ** 2 * (y_prev[i] - 2*y_current[i]) -\n",
    "                  ((1 - 2 * data['delta']) * y_current[i] + data['delta'] * y_prev[i]) - \n",
    "                  f(tn_current, h * i)\n",
    "                  for i in np.arange(1, len(y_current) - 1)])\n",
    "\n",
    "    a = np.repeat(gamma, len(d))\n",
    "    c = np.repeat(2 * gamma - 1 / tau_v ** 2, len(d))\n",
    "    b = np.repeat(gamma, len(d))\n",
    "\n",
    "    result = TDMA(a, b, c, d, tn_current+tau_v)\n",
    "\n",
    "    return result\n",
    "\n",
    "\n",
    "def implicit_scheme(h: float, tau_v: float) -> pd.DataFrame:\n",
    "    h_values = np.linspace(0, data['L'],\n",
    "                           np.int32(np.round((data['L']) / h)))\n",
    "\n",
    "    new_h = h_values[1] - h_values[0]\n",
    "\n",
    "    der_vals = [derivative(u0, h_val, 10e-3, 2) for h_val in h_values]\n",
    "    \n",
    "    l1 = [u0(i) for i in h_values[1:-1]]\n",
    "\n",
    "    l1 = np.append(m1(0), l1)\n",
    "    l1 = np.append(l1, m2(0))\n",
    "    \n",
    "    result = np.array(l1)\n",
    "\n",
    "    tns = np.linspace(0, data['T'], np.int32(np.round(data['T'] / tau_v)))[2:]\n",
    "    new_tau = tns[1] - tns[0]\n",
    "    \n",
    "    l2 = [u0(h_val) + new_tau * u1(h_val) \n",
    "          + new_tau ** 2 / 2 \n",
    "          * (data['c'] ** 2 * der_vals[i] + f(0, h_val)) \n",
    "          for i, h_val in enumerate(h_values[1:-1])]\n",
    "\n",
    "    l2 = np.append(m1(tns[0]), l2)\n",
    "    l2 = np.append(l2, m2(tns[0]))\n",
    "\n",
    "    result = np.append(result, l2)\n",
    "\n",
    "    for tn in tns:\n",
    "        l1, l2 = l2, _implicit_scheme(l2, l1, tn_current=tn, h=new_h, tau_v=new_tau)\n",
    "        result = np.append(result, l2)\n",
    "\n",
    "    result = pd.DataFrame(data=result.reshape(\n",
    "        tns.shape[0]+2, -1), columns=h_values, index=np.append([0,new_tau], tns))\n",
    "    result.index.name = 't_n'\n",
    "    result.columns.name = 'x_i'\n",
    "    return result\n"
   ]
  },
  {
   "cell_type": "markdown",
   "metadata": {},
   "source": [
    "### Нахождение погрешностей"
   ]
  },
  {
   "cell_type": "code",
   "execution_count": 7,
   "metadata": {},
   "outputs": [],
   "source": [
    "def get_innaccuracy(y_prev: float, y_curr: float) -> float:\n",
    "    return np.abs((y_prev - y_curr) / y_curr)\n",
    "\n",
    "def condition(inn: float, eps: float = 10e4) -> bool: return inn <= eps"
   ]
  },
  {
   "cell_type": "code",
   "execution_count": 8,
   "metadata": {},
   "outputs": [],
   "source": [
    "def find_h(h_max: float) -> float:\n",
    "    _h_min = h_max / 2\n",
    "    \n",
    "    first = implicit_scheme(h=h_max, tau_v=tau(h_max))\n",
    "    \n",
    "    y_prev = first.loc[data['T']].median()\n",
    "    y_curr = implicit_scheme(h=_h_min, tau_v=tau(_h_min)).loc[data['T']].median()\n",
    "    \n",
    "    while (condition(get_innaccuracy(y_prev, y_curr)) == False):\n",
    "        h_max /= 2\n",
    "        y_prev, y_curr = implicit_scheme(h=h_max, tau_v=tau(h_max)).loc[data['T']].median()\n",
    "    \n",
    "    return _h_min"
   ]
  },
  {
   "cell_type": "markdown",
   "metadata": {},
   "source": [
    "### Когда $\\delta = 0$"
   ]
  },
  {
   "cell_type": "code",
   "execution_count": 9,
   "metadata": {},
   "outputs": [],
   "source": [
    "data['delta'] = 0"
   ]
  },
  {
   "cell_type": "code",
   "execution_count": 10,
   "metadata": {},
   "outputs": [
    {
     "data": {
      "text/plain": [
       "0.0125"
      ]
     },
     "execution_count": 10,
     "metadata": {},
     "output_type": "execute_result"
    }
   ],
   "source": [
    "h_min = find_h(0.025)\n",
    "h_min"
   ]
  },
  {
   "cell_type": "code",
   "execution_count": 29,
   "metadata": {},
   "outputs": [
    {
     "data": {
      "image/png": "[encoded data removed]",
      "text/plain": [
       "<Figure size 600x400 with 2 Axes>"
      ]
     },
     "metadata": {},
     "output_type": "display_data"
    }
   ],
   "source": [
    "print_contour(implicit_scheme(h_min, tau(h_min)))"
   ]
  },
  {
   "cell_type": "markdown",
   "metadata": {},
   "source": [
    "### Погрешности при изменении $\\tau$"
   ]
  },
  {
   "cell_type": "code",
   "execution_count": 11,
   "metadata": {},
   "outputs": [
    {
     "data": {
      "text/plain": [
       "[0.025, 0.0125, 0.00625, 0.003125]"
      ]
     },
     "execution_count": 11,
     "metadata": {},
     "output_type": "execute_result"
    }
   ],
   "source": [
    "tau_vals = [tau(0.025 / np.power(2, i))\n",
    "            for i in np.arange(4)]\n",
    "\n",
    "tau_vals"
   ]
  },
  {
   "cell_type": "code",
   "execution_count": 12,
   "metadata": {},
   "outputs": [
    {
     "data": {
      "text/plain": [
       "[0.0009330156242440781, 0.00037269811670624073, 0.00016821697956226957]"
      ]
     },
     "execution_count": 12,
     "metadata": {},
     "output_type": "execute_result"
    }
   ],
   "source": [
    "values_in_midpoint = [implicit_scheme(h_min, _tau).loc[data['T']].median()\n",
    "                      for _tau in tau_vals]\n",
    "\n",
    "incrs = [get_innaccuracy(values_in_midpoint[i - 1], values_in_midpoint[i]) \n",
    "         for i in np.arange(1, len(values_in_midpoint))]\n",
    "\n",
    "incrs"
   ]
  },
  {
   "cell_type": "code",
   "execution_count": 13,
   "metadata": {},
   "outputs": [
    {
     "data": {
      "text/plain": [
       "[<matplotlib.lines.Line2D at 0x1de7fa852e0>]"
      ]
     },
     "execution_count": 13,
     "metadata": {},
     "output_type": "execute_result"
    },
    {
     "data": {
      "image/png": "[encoded data removed]",
      "text/plain": [
       "<Figure size 400x400 with 1 Axes>"
      ]
     },
     "metadata": {},
     "output_type": "display_data"
    }
   ],
   "source": [
    "import matplotlib.pyplot as plt\n",
    "\n",
    "plt.figure(figsize=(4, 4))\n",
    "plt.plot(np.log(tau_vals[1:]), np.log(incrs))"
   ]
  },
  {
   "cell_type": "code",
   "execution_count": 14,
   "metadata": {},
   "outputs": [
    {
     "data": {
      "text/plain": [
       "array([ 1.23578895, -1.58218503])"
      ]
     },
     "execution_count": 14,
     "metadata": {},
     "output_type": "execute_result"
    }
   ],
   "source": [
    "np.polyfit(np.log(tau_vals[1:]), np.log(incrs), deg=1)"
   ]
  },
  {
   "cell_type": "markdown",
   "metadata": {},
   "source": [
    "### Погрешности при изменении $h$"
   ]
  },
  {
   "cell_type": "code",
   "execution_count": 15,
   "metadata": {},
   "outputs": [
    {
     "data": {
      "text/plain": [
       "[0.025, 0.0125, 0.00625, 0.003125]"
      ]
     },
     "execution_count": 15,
     "metadata": {},
     "output_type": "execute_result"
    }
   ],
   "source": [
    "h_vals = [0.025 / np.power(2, i)\n",
    "            for i in np.arange(4)]\n",
    "\n",
    "h_vals"
   ]
  },
  {
   "cell_type": "code",
   "execution_count": 16,
   "metadata": {},
   "outputs": [
    {
     "data": {
      "text/plain": [
       "[1.4647545908410725e-11, 1.2551323192184646e-12, 2.0441965060842315e-13]"
      ]
     },
     "execution_count": 16,
     "metadata": {},
     "output_type": "execute_result"
    }
   ],
   "source": [
    "values_in_midpoint = [implicit_scheme(_h, tau(h_min)).loc[data['T']].median()\n",
    "                      for _h in h_vals]\n",
    "\n",
    "incrs = [get_innaccuracy(values_in_midpoint[i - 1], values_in_midpoint[i]) \n",
    "         for i in np.arange(1, len(values_in_midpoint))]\n",
    "\n",
    "incrs"
   ]
  },
  {
   "cell_type": "code",
   "execution_count": 17,
   "metadata": {},
   "outputs": [
    {
     "data": {
      "text/plain": [
       "[<matplotlib.lines.Line2D at 0x1de7fb81100>]"
      ]
     },
     "execution_count": 17,
     "metadata": {},
     "output_type": "execute_result"
    },
    {
     "data": {
      "image/png": "[encoded data removed]",
      "text/plain": [
       "<Figure size 400x400 with 1 Axes>"
      ]
     },
     "metadata": {},
     "output_type": "display_data"
    }
   ],
   "source": [
    "plt.figure(figsize=(4, 4))\n",
    "plt.plot(np.log(tau_vals[1:]), np.log(incrs))"
   ]
  },
  {
   "cell_type": "code",
   "execution_count": 18,
   "metadata": {},
   "outputs": [
    {
     "data": {
      "text/plain": [
       "array([  3.08149064, -11.55060935])"
      ]
     },
     "execution_count": 18,
     "metadata": {},
     "output_type": "execute_result"
    }
   ],
   "source": [
    "np.polyfit(np.log(h_vals[1:]), np.log(incrs), deg=1)"
   ]
  },
  {
   "cell_type": "markdown",
   "metadata": {},
   "source": [
    "### Когда $\\delta = \\frac{1}{2}$"
   ]
  },
  {
   "cell_type": "code",
   "execution_count": 31,
   "metadata": {},
   "outputs": [],
   "source": [
    "data['delta'] = 0.5"
   ]
  },
  {
   "cell_type": "code",
   "execution_count": 32,
   "metadata": {},
   "outputs": [
    {
     "data": {
      "text/plain": [
       "0.0125"
      ]
     },
     "execution_count": 32,
     "metadata": {},
     "output_type": "execute_result"
    }
   ],
   "source": [
    "h_min = find_h(0.025)\n",
    "h_min"
   ]
  },
  {
   "cell_type": "code",
   "execution_count": 33,
   "metadata": {},
   "outputs": [
    {
     "data": {
      "image/png": "[encoded data removed]",
      "text/plain": [
       "<Figure size 600x400 with 2 Axes>"
      ]
     },
     "metadata": {},
     "output_type": "display_data"
    }
   ],
   "source": [
    "print_contour(implicit_scheme(h_min, tau(h_min)))"
   ]
  },
  {
   "cell_type": "markdown",
   "metadata": {},
   "source": [
    "### Погрешности при изменении $\\tau$"
   ]
  },
  {
   "cell_type": "code",
   "execution_count": 21,
   "metadata": {},
   "outputs": [
    {
     "data": {
      "text/plain": [
       "[0.025, 0.0125, 0.00625, 0.003125]"
      ]
     },
     "execution_count": 21,
     "metadata": {},
     "output_type": "execute_result"
    }
   ],
   "source": [
    "tau_vals = [tau(0.025 / np.power(2, i))\n",
    "            for i in np.arange(4)]\n",
    "\n",
    "tau_vals"
   ]
  },
  {
   "cell_type": "code",
   "execution_count": 22,
   "metadata": {},
   "outputs": [
    {
     "data": {
      "text/plain": [
       "[0.00046940667459733417, 0.000188493485191339, 8.529612656518188e-05]"
      ]
     },
     "execution_count": 22,
     "metadata": {},
     "output_type": "execute_result"
    }
   ],
   "source": [
    "values_in_midpoint = [implicit_scheme(h_min, _tau).loc[data['T']].median()\n",
    "                      for _tau in tau_vals]\n",
    "\n",
    "incrs = [get_innaccuracy(values_in_midpoint[i - 1], values_in_midpoint[i]) \n",
    "         for i in np.arange(1, len(values_in_midpoint))]\n",
    "\n",
    "incrs"
   ]
  },
  {
   "cell_type": "code",
   "execution_count": 23,
   "metadata": {},
   "outputs": [
    {
     "data": {
      "text/plain": [
       "[<matplotlib.lines.Line2D at 0x1de7fbe9250>]"
      ]
     },
     "execution_count": 23,
     "metadata": {},
     "output_type": "execute_result"
    },
    {
     "data": {
      "image/png": "[encoded data removed]",
      "text/plain": [
       "<Figure size 400x400 with 1 Axes>"
      ]
     },
     "metadata": {},
     "output_type": "display_data"
    }
   ],
   "source": [
    "import matplotlib.pyplot as plt\n",
    "\n",
    "plt.figure(figsize=(4, 4))\n",
    "plt.plot(np.log(tau_vals[1:]), np.log(incrs))"
   ]
  },
  {
   "cell_type": "code",
   "execution_count": 24,
   "metadata": {},
   "outputs": [
    {
     "data": {
      "text/plain": [
       "array([ 1.23014311, -2.29343312])"
      ]
     },
     "execution_count": 24,
     "metadata": {},
     "output_type": "execute_result"
    }
   ],
   "source": [
    "np.polyfit(np.log(tau_vals[1:]), np.log(incrs), deg=1)"
   ]
  },
  {
   "cell_type": "markdown",
   "metadata": {},
   "source": [
    "### Погрешности при изменении $h$"
   ]
  },
  {
   "cell_type": "code",
   "execution_count": 25,
   "metadata": {},
   "outputs": [
    {
     "data": {
      "text/plain": [
       "[0.025, 0.0125, 0.00625, 0.003125]"
      ]
     },
     "execution_count": 25,
     "metadata": {},
     "output_type": "execute_result"
    }
   ],
   "source": [
    "h_vals = [0.025 / np.power(2, i)\n",
    "            for i in np.arange(4)]\n",
    "\n",
    "h_vals"
   ]
  },
  {
   "cell_type": "code",
   "execution_count": 26,
   "metadata": {},
   "outputs": [
    {
     "data": {
      "text/plain": [
       "[1.3756522758126756e-11, 1.1800118690909953e-12, 1.9159986534205787e-13]"
      ]
     },
     "execution_count": 26,
     "metadata": {},
     "output_type": "execute_result"
    }
   ],
   "source": [
    "values_in_midpoint = [implicit_scheme(_h, tau(h_min)).loc[data['T']].median()\n",
    "                      for _h in h_vals]\n",
    "\n",
    "incrs = [get_innaccuracy(values_in_midpoint[i - 1], values_in_midpoint[i]) \n",
    "         for i in np.arange(1, len(values_in_midpoint))]\n",
    "\n",
    "incrs"
   ]
  },
  {
   "cell_type": "code",
   "execution_count": 27,
   "metadata": {},
   "outputs": [
    {
     "data": {
      "text/plain": [
       "[<matplotlib.lines.Line2D at 0x1de7fc4a850>]"
      ]
     },
     "execution_count": 27,
     "metadata": {},
     "output_type": "execute_result"
    },
    {
     "data": {
      "image/png": "[encoded data removed]",
      "text/plain": [
       "<Figure size 400x400 with 1 Axes>"
      ]
     },
     "metadata": {},
     "output_type": "display_data"
    }
   ],
   "source": [
    "plt.figure(figsize=(4, 4))\n",
    "plt.plot(np.log(tau_vals[1:]), np.log(incrs))"
   ]
  },
  {
   "cell_type": "code",
   "execution_count": 28,
   "metadata": {},
   "outputs": [
    {
     "data": {
      "text/plain": [
       "array([  3.08293774, -11.60634571])"
      ]
     },
     "execution_count": 28,
     "metadata": {},
     "output_type": "execute_result"
    }
   ],
   "source": [
    "np.polyfit(np.log(h_vals[1:]), np.log(incrs), deg=1)"
   ]
  }
 ],
 "metadata": {
  "kernelspec": {
   "display_name": "Python 3.9.7 ('base')",
   "language": "python",
   "name": "python3"
  },
  "language_info": {
   "codemirror_mode": {
    "name": "ipython",
    "version": 3
   },
   "file_extension": ".py",
   "mimetype": "text/x-python",
   "name": "python",
   "nbconvert_exporter": "python",
   "pygments_lexer": "ipython3",
   "version": "3.9.7"
  },
  "orig_nbformat": 4,
  "vscode": {
   "interpreter": {
    "hash": "f76d4fda128b12615e46e0e8dd834a222e7abd956eb53de74309670d1db4104c"
   }
  }
 },
 "nbformat": 4,
 "nbformat_minor": 2
}
