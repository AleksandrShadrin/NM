{
 "cells": [
  {
   "cell_type": "markdown",
   "metadata": {},
   "source": [
    "### Начальные данные"
   ]
  },
  {
   "cell_type": "code",
   "execution_count": 1,
   "metadata": {},
   "outputs": [
    {
     "data": {
      "text/plain": [
       "a    0.0\n",
       "b    2.0\n",
       "k    2.0\n",
       "T    0.1\n",
       "h    0.1\n",
       "dtype: float64"
      ]
     },
     "execution_count": 1,
     "metadata": {},
     "output_type": "execute_result"
    }
   ],
   "source": [
    "import pandas as pd\n",
    "\n",
    "data = pd.Series(data={\n",
    "    'a':0.0,\n",
    "    'b':2.0,\n",
    "    'k':2.0,\n",
    "    'T':0.1,\n",
    "    'h':0.1\n",
    "})\n",
    "\n",
    "data"
   ]
  },
  {
   "cell_type": "code",
   "execution_count": 2,
   "metadata": {},
   "outputs": [],
   "source": [
    "def u0(x): return 0\n",
    "def m1(t): return 0\n",
    "def m2(t): return 2*t\n",
    "def f(x, t): return 1\n",
    "def tau(h) : return 0.45 * h ** 2 / data['k']"
   ]
  },
  {
   "cell_type": "markdown",
   "metadata": {},
   "source": [
    "### Явная схема Лаосонена"
   ]
  },
  {
   "cell_type": "code",
   "execution_count": 3,
   "metadata": {},
   "outputs": [],
   "source": [
    "import numpy as np\n",
    "\n",
    "\n",
    "def _laosonen(y_current: list, tn_current: float, h: float) -> list:\n",
    "    arr = [y_current[n] + tau(h) * (data['k'] *\n",
    "                                    (y_current[n+1] - 2 *\n",
    "                                     y_current[n] + y_current[n - 1])\n",
    "                                    / h ** 2 + f(data['a'] + h * n, tn_current))\n",
    "           for n in np.arange(1, len(y_current)-1)]\n",
    "    arr = np.append(m1(tn_current + tau(h)), arr)\n",
    "    return np.append(arr, m2(tn_current + tau(h)))\n",
    "\n",
    "\n",
    "def laosen(h: float) -> pd.DataFrame:\n",
    "\n",
    "    l1 = [u0(i) for i in np.arange(data['a'] + h, data['b'],\n",
    "                                             step=h)]\n",
    "\n",
    "    l1 = np.append(m1(0), l1)\n",
    "    l1 = np.append(l1, m2(0))\n",
    "    \n",
    "    result = np.array(l1)\n",
    "\n",
    "    tns = np.arange(0, data['T'] + tau(h), tau(h))\n",
    "\n",
    "    for tn in tns:\n",
    "        l1 = _laosonen(l1, tn_current=tn, h=h)\n",
    "        result = np.append(result, l1)\n",
    "\n",
    "    result = pd.DataFrame(data=result.reshape(tns.shape[0]+1, -1), columns=np.arange(\n",
    "        data['a'], data['b'] + h, h), index=np.append(0,tns))\n",
    "    result.index.name = 't_n'\n",
    "    result.columns.name = 'x_i'\n",
    "    return result"
   ]
  },
  {
   "cell_type": "markdown",
   "metadata": {},
   "source": [
    "### Отображение полученных слоев"
   ]
  },
  {
   "cell_type": "code",
   "execution_count": 4,
   "metadata": {},
   "outputs": [],
   "source": [
    "import matplotlib.pyplot as plt\n",
    "\n",
    "def print_contour(df: pd.DataFrame) -> None:\n",
    "    plt.style.use('_mpl-gallery-nogrid')\n",
    "    fig, ax = plt.subplots()\n",
    "    X, Y = np.meshgrid(df.columns, df.index)\n",
    "    Z = df.values\n",
    "\n",
    "    contour = ax.contourf(X, Y, Z)\n",
    "    cbar = fig.colorbar(contour)\n",
    "    fig.set_figheight(4)\n",
    "    fig.set_figwidth(6)\n",
    "    ax.set_xlabel('x_i')\n",
    "    ax.set_ylabel('t_n')\n",
    "    fig.tight_layout()\n",
    "    \n"
   ]
  },
  {
   "cell_type": "markdown",
   "metadata": {},
   "source": [
    "### Неявная схема \"Зонтик\""
   ]
  },
  {
   "cell_type": "code",
   "execution_count": 5,
   "metadata": {},
   "outputs": [],
   "source": [
    "def TDMA(a,b,c,d):\n",
    "    n = len(d)\n",
    "    w= np.zeros(n-1,float)\n",
    "    g= np.zeros(n, float)\n",
    "    p = np.zeros(n,float)\n",
    "    \n",
    "    \n",
    "    w[0] = c[0]/b[0]\n",
    "    g[0] = d[0]/b[0]\n",
    "\n",
    "    for i in range(1,n-1):\n",
    "        w[i] = c[i]/(b[i] - a[i-1]*w[i-1])\n",
    "    for i in range(1,n):\n",
    "        g[i] = (d[i] - a[i-1]*g[i-1])/(b[i] - a[i-1]*w[i-1])\n",
    "    p[n-1] = g[n-1]\n",
    "    for i in range(n-1,0,-1):\n",
    "        p[i-1] = g[i-1] - w[i-1]*p[i]\n",
    "    return p"
   ]
  },
  {
   "cell_type": "code",
   "execution_count": 6,
   "metadata": {},
   "outputs": [],
   "source": [
    "def _umbrella(y_current: list, tn_current: float, h: float) -> list:\n",
    "    gamma = data['k'] * tau(h) / h ** 2\n",
    "    d = -1 * np.array([y_current[i] + tau(h) * f(data['a'] + h * i, tn_current)\n",
    "                       for i in np.arange(len(y_current))])\n",
    "    \n",
    "    a = np.repeat(gamma, len(d) - 1)\n",
    "    b = np.repeat(-(1 + 2 * gamma), len(d))\n",
    "    b[0] = -(1 + gamma)\n",
    "    b[-1] = -(1 + gamma)\n",
    "    c = np.repeat(gamma, len(d) - 1)\n",
    "\n",
    "    result = TDMA(a, b, c, d)\n",
    "    result[0] = m1(tn_current)\n",
    "    result[-1] = m2(tn_current)\n",
    "    return result\n",
    "\n",
    "\n",
    "def umbrella(h: float) -> pd.DataFrame:\n",
    "\n",
    "    l1 = [u0(i) for i in np.arange(data['a'] + h, data['b'],\n",
    "                                             step=h)]\n",
    "    \n",
    "    l1 = np.append(m1(0), l1)\n",
    "    l1 = np.append(l1, m2(0))\n",
    "    \n",
    "    result = np.array(l1)\n",
    "\n",
    "    tns = np.arange(0, data['T'] + tau(h), tau(h))\n",
    "\n",
    "    for tn in tns:\n",
    "        l1 = _umbrella(l1, tn_current=tn, h=h)\n",
    "        result = np.append(result, l1)\n",
    "\n",
    "    result = pd.DataFrame(data=result.reshape(tns.shape[0]+1, -1), columns=np.arange(\n",
    "        data['a'], data['b'] + h, h), index=np.append(0, tns))\n",
    "    result.index.name = 't_n'\n",
    "    result.columns.name = 'x_i'\n",
    "    return result\n"
   ]
  },
  {
   "cell_type": "markdown",
   "metadata": {},
   "source": [
    "### Неявная схема Кранка-Николсона"
   ]
  },
  {
   "cell_type": "code",
   "execution_count": 7,
   "metadata": {},
   "outputs": [],
   "source": [
    "def _krank_nikols(y_current: list, tn_current: float, h: float) -> list:\n",
    "    gamma = 0.5 * data['k'] * tau(h) / h ** 2\n",
    "    d = -1 * np.array([y_current[i] + gamma * \\\n",
    "                        (y_current[i+1] - 2*y_current[i] + y_current[i-1]) + \\\n",
    "                        tau(h) * f(data['a'] + h * i, tn_current + 0.5 * tau(h))\n",
    "                        for i in np.arange(1, len(y_current) -1)])\n",
    "    \n",
    "    a = np.repeat(gamma, len(d) - 1)\n",
    "    b = np.repeat(-(1 + 2 * gamma), len(d))\n",
    "    b[0] = -(1 + gamma)\n",
    "    b[-1] = -(1 + gamma)\n",
    "    c = np.repeat(gamma, len(d)-1)\n",
    "\n",
    "    result = TDMA(a, b, c, d)\n",
    "    result = np.append(m1(tn_current+tau(h)), result)\n",
    "    result = np.append(result, m2(tn_current+tau(h)))\n",
    "\n",
    "    return result\n",
    "\n",
    "\n",
    "def krank_nikols(h: float) -> pd.DataFrame:\n",
    "\n",
    "    l1 = [u0(i) for i in np.arange(data['a'] + h, data['b'],\n",
    "                                             step=h)]\n",
    "    \n",
    "    l1 = np.append(m1(0), l1)\n",
    "    l1 = np.append(l1, m2(0))\n",
    "    \n",
    "    result = np.array(l1)\n",
    "\n",
    "    tns = np.arange(0, data['T'] + tau(h), tau(h))\n",
    "\n",
    "    for tn in tns:\n",
    "        l1 = _krank_nikols(l1, tn_current=tn, h=h)\n",
    "        result = np.append(result, l1)\n",
    "\n",
    "    result = pd.DataFrame(data=result.reshape(tns.shape[0]+1, -1), columns=np.arange(\n",
    "        data['a'], data['b'] + h, h), index=np.append(0, tns))\n",
    "    result.index.name = 't_n'\n",
    "    result.columns.name = 'x_i'\n",
    "    return result"
   ]
  },
  {
   "cell_type": "code",
   "execution_count": 18,
   "metadata": {},
   "outputs": [],
   "source": [
    "from typing import Callable\n",
    "\n",
    "\n",
    "def get_inaccuracy(y_current: float, y_prev: float): return np.abs(\n",
    "    (y_prev - y_current) / y_current)\n",
    "\n",
    "\n",
    "def condition(inaccuracy: float, p: int): return inaccuracy <= 10e-4 * \\\n",
    "    (np.power(2, p+1) - 2) / 2\n",
    "\n",
    "\n",
    "def find_h(method: Callable[[float], pd.DataFrame], p: int) -> tuple:\n",
    "    h = data['h']\n",
    "    inaccuracies = []\n",
    "    res = method(h)\n",
    "\n",
    "    mid_value = res.iloc[-1].median()\n",
    "\n",
    "    while(True):\n",
    "        h /= 2\n",
    "        res = method(h)\n",
    "        new_mid_value = res.iloc[-1].median()\n",
    "\n",
    "        inaccuracy = get_inaccuracy(new_mid_value, mid_value)\n",
    "        inaccuracies += [inaccuracy]\n",
    "\n",
    "        if(condition(inaccuracy, p)):\n",
    "            mid_value = new_mid_value\n",
    "            break\n",
    "\n",
    "        mid_value = new_mid_value\n",
    "\n",
    "    return (h, inaccuracies, res)\n"
   ]
  },
  {
   "cell_type": "code",
   "execution_count": 19,
   "metadata": {},
   "outputs": [],
   "source": [
    "h, inaccuracies,res = find_h(krank_nikols, 2)"
   ]
  },
  {
   "cell_type": "code",
   "execution_count": 20,
   "metadata": {},
   "outputs": [
    {
     "data": {
      "text/plain": [
       "[0.027932960893867223, 0.004207573632554634, 0.002108222066154369]"
      ]
     },
     "execution_count": 20,
     "metadata": {},
     "output_type": "execute_result"
    }
   ],
   "source": [
    "inaccuracies"
   ]
  },
  {
   "cell_type": "code",
   "execution_count": 10,
   "metadata": {},
   "outputs": [
    {
     "data": {
      "image/png": "[encoded data removed]",
      "text/plain": [
       "<Figure size 600x400 with 2 Axes>"
      ]
     },
     "metadata": {},
     "output_type": "display_data"
    }
   ],
   "source": [
    "print_contour(res)"
   ]
  }
 ],
 "metadata": {
  "kernelspec": {
   "display_name": "Python 3.9.7 ('base')",
   "language": "python",
   "name": "python3"
  },
  "language_info": {
   "codemirror_mode": {
    "name": "ipython",
    "version": 3
   },
   "file_extension": ".py",
   "mimetype": "text/x-python",
   "name": "python",
   "nbconvert_exporter": "python",
   "pygments_lexer": "ipython3",
   "version": "3.9.7"
  },
  "orig_nbformat": 4,
  "vscode": {
   "interpreter": {
    "hash": "f76d4fda128b12615e46e0e8dd834a222e7abd956eb53de74309670d1db4104c"
   }
  }
 },
 "nbformat": 4,
 "nbformat_minor": 2
}
