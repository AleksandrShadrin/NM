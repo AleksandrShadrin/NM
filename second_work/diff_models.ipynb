{
 "cells": [
  {
   "cell_type": "markdown",
   "metadata": {},
   "source": [
    "### Начальные данные"
   ]
  },
  {
   "cell_type": "code",
   "execution_count": 136,
   "metadata": {},
   "outputs": [
    {
     "data": {
      "text/plain": [
       "a    0.0\n",
       "b    2.0\n",
       "k    2.0\n",
       "T    0.1\n",
       "h    0.1\n",
       "dtype: float64"
      ]
     },
     "execution_count": 136,
     "metadata": {},
     "output_type": "execute_result"
    }
   ],
   "source": [
    "import pandas as pd\n",
    "import numpy as np\n",
    "\n",
    "data = pd.Series(data={\n",
    "    'a':0.0,\n",
    "    'b':2.0,\n",
    "    'k':2.0,\n",
    "    'T':0.1,\n",
    "    'h':0.1\n",
    "})\n",
    "\n",
    "data"
   ]
  },
  {
   "cell_type": "code",
   "execution_count": 137,
   "metadata": {},
   "outputs": [],
   "source": [
    "def u0(x): return 0\n",
    "def m1(t): return 0\n",
    "def m2(t): return 2*t\n",
    "def f(x, t): return 1\n",
    "def tau(h) : return np.round(np.divide(np.multiply(np.double(0.45), np.power(h, 2, dtype=np.double)), data['k']), 16)"
   ]
  },
  {
   "cell_type": "markdown",
   "metadata": {},
   "source": [
    "### Явная схема Лаосонена"
   ]
  },
  {
   "cell_type": "code",
   "execution_count": 138,
   "metadata": {},
   "outputs": [],
   "source": [
    "import numpy as np\n",
    "\n",
    "\n",
    "def _laosonen(y_current: list, tn_current: float, h: float, tau_v: float) -> list:\n",
    "    arr = [y_current[n] + tau_v * (data['k'] *\n",
    "                                    (y_current[n+1] - 2 *\n",
    "                                     y_current[n] + y_current[n - 1])\n",
    "                                    / h ** 2 + f(data['a'] + h * n, tn_current))\n",
    "           for n in np.arange(1, len(y_current)-1)]\n",
    "    arr = np.append(m1(tn_current + tau_v), arr)\n",
    "    return np.append(arr, m2(tn_current + tau_v))\n",
    "\n",
    "\n",
    "def laosonen(h: float, tau_v: float) -> pd.DataFrame:\n",
    "    h_values = np.linspace(data['a'], data['b'],\n",
    "                           np.int32(np.round((data['b'] - data['a']) / h)))\n",
    "    \n",
    "    new_h = h_values[1] - h_values[0]\n",
    "    \n",
    "    l1 = [u0(i) for i in h_values[1:-1]]\n",
    "\n",
    "    l1 = np.append(m1(0), l1)\n",
    "    l1 = np.append(l1, m2(0))\n",
    "    \n",
    "    result = np.array(l1)\n",
    "\n",
    "    tns = np.linspace(0, data['T'], np.int32(np.round(data['T'] / tau_v)))[1:]\n",
    "    new_tau = tns[1] - tns[0]\n",
    "    \n",
    "    for tn in tns:\n",
    "        l1 = _laosonen(l1, tn_current=tn, h=new_h, tau_v=new_tau)\n",
    "        result = np.append(result, l1)\n",
    "\n",
    "    result = pd.DataFrame(data=result.reshape(tns.shape[0]+1, -1), columns=h_values, index=np.append(0,tns))\n",
    "    result.index.name = 't_n'\n",
    "    result.columns.name = 'x_i'\n",
    "    return result"
   ]
  },
  {
   "cell_type": "markdown",
   "metadata": {},
   "source": [
    "### Отображение полученных слоев"
   ]
  },
  {
   "cell_type": "code",
   "execution_count": 139,
   "metadata": {},
   "outputs": [],
   "source": [
    "import matplotlib.pyplot as plt\n",
    "\n",
    "def print_contour(df: pd.DataFrame) -> None:\n",
    "    plt.style.use('_mpl-gallery-nogrid')\n",
    "    fig, ax = plt.subplots()\n",
    "    X, Y = np.meshgrid(df.columns, df.index)\n",
    "    Z = df.values\n",
    "\n",
    "    contour = ax.contourf(X, Y, Z)\n",
    "    cbar = fig.colorbar(contour)\n",
    "    fig.set_figheight(4)\n",
    "    fig.set_figwidth(6)\n",
    "    ax.set_xlabel('$x_i$')\n",
    "    ax.set_ylabel('$t_n$')\n",
    "    fig.tight_layout()\n",
    "    \n"
   ]
  },
  {
   "cell_type": "markdown",
   "metadata": {},
   "source": [
    "### Неявная схема \"Зонтик\""
   ]
  },
  {
   "cell_type": "code",
   "execution_count": 140,
   "metadata": {},
   "outputs": [],
   "source": [
    "def TDMA(a, b, c, d, tn_next):\n",
    "    _m1 = m1(tn_next)\n",
    "    _m2 = m2(tn_next)\n",
    "\n",
    "    n = len(d)\n",
    "\n",
    "    alpha = np.zeros(n+1)\n",
    "    beta = np.zeros(n+1)\n",
    "    beta[0] = _m1\n",
    "    res = np.zeros(n+1)\n",
    "    res[-1] = _m2\n",
    "\n",
    "    for i in np.arange(1, n+1):\n",
    "        alpha[i] = b[i-1] / (c[i-1] - alpha[i-1] * a[i-1])\n",
    "\n",
    "    for i in np.arange(1, n+1):\n",
    "        beta[i] = (a[i-1]*beta[i-1] + d[i-1]) / (c[i-1] - alpha[i-1] * a[i-1])\n",
    "\n",
    "    for i in np.arange(n-1, -1, -1):\n",
    "        res[i] = alpha[i+1]*res[i+1] + beta[i+1]\n",
    "\n",
    "    res = np.append(_m1, res)\n",
    "\n",
    "    return res\n"
   ]
  },
  {
   "cell_type": "code",
   "execution_count": 141,
   "metadata": {},
   "outputs": [],
   "source": [
    "def _umbrella(y_current: list, tn_current: float, h: float, tau_v:float) -> list:\n",
    "    gamma = data['k'] * tau_v / h ** 2\n",
    "    d = np.array([y_current[i] + tau_v * f(data['a'] + h * i, tn_current)\n",
    "                       for i in np.arange(1, len(y_current) - 1)])\n",
    "    \n",
    "    a = np.repeat(gamma, len(d))\n",
    "    c = np.repeat((1 + 2 * gamma), len(d))\n",
    "    b = np.repeat(gamma, len(d))\n",
    "\n",
    "    result = TDMA(a, b, c, d, tn_current+tau_v)\n",
    "\n",
    "    return result\n",
    "\n",
    "\n",
    "def umbrella(h: float, tau_v: float) -> pd.DataFrame:\n",
    "    h_values = np.linspace(data['a'], data['b'],\n",
    "                           np.int32(np.round((data['b'] - data['a']) / h)))\n",
    "    \n",
    "    new_h = h_values[1] - h_values[0]\n",
    "    \n",
    "    l1 = [u0(i) for i in h_values[1:-1]]\n",
    "    \n",
    "    l1 = np.append(m1(0), l1)\n",
    "    l1 = np.append(l1, m2(0))\n",
    "    \n",
    "    result = np.array(l1)\n",
    "\n",
    "    tns = np.linspace(0, data['T'], np.int32(np.round(data['T'] / tau_v)))[1:]\n",
    "    new_tau = tns[1] - tns[0]\n",
    "    \n",
    "    for tn in tns:\n",
    "        l1 = _umbrella(l1, tn_current=tn, h=new_h, tau_v=new_tau)\n",
    "        result = np.append(result, l1)\n",
    "\n",
    "    result = pd.DataFrame(data=result.reshape(tns.shape[0]+1, -1), columns=h_values, index=np.append(0, tns))\n",
    "    result.index.name = 't_n'\n",
    "    result.columns.name = 'x_i'\n",
    "    return result\n"
   ]
  },
  {
   "cell_type": "markdown",
   "metadata": {},
   "source": [
    "### Неявная схема Кранка-Николсона"
   ]
  },
  {
   "cell_type": "code",
   "execution_count": 142,
   "metadata": {},
   "outputs": [],
   "source": [
    "def _krank_nikols(y_current: list, tn_current: float, h: float, tau_v:float) -> list:\n",
    "    gamma = 0.5 * data['k'] * tau_v / h ** 2\n",
    "    d = np.array([y_current[i] + gamma * \\\n",
    "                        (y_current[i+1] - 2*y_current[i] + y_current[i-1]) + \\\n",
    "                        tau_v * f(data['a'] + h * i, tn_current + 0.5 * tau_v)\n",
    "                        for i in np.arange(1, len(y_current) -1)])\n",
    "    \n",
    "    a = np.repeat(gamma, len(d))\n",
    "    c = np.repeat((1 + 2 * gamma), len(d))\n",
    "    b = np.repeat(gamma, len(d))\n",
    "\n",
    "    result = TDMA(a, b, c, d, tn_current + tau_v)\n",
    "\n",
    "    return result\n",
    "\n",
    "\n",
    "def krank_nikols(h: float, tau_v: float) -> pd.DataFrame:\n",
    "\n",
    "    h_values = np.linspace(data['a'], data['b'],\n",
    "                           np.int32(np.round((data['b'] - data['a']) / h)))\n",
    "    \n",
    "    new_h = h_values[1] - h_values[0]\n",
    "    l1 = [u0(i) for i in h_values[1:-1]]\n",
    "    \n",
    "    l1 = np.append(m1(0), l1)\n",
    "    l1 = np.append(l1, m2(0))\n",
    "    \n",
    "    result = np.array(l1)\n",
    "    \n",
    "    tns = np.linspace(0, data['T'], np.int32(np.round(data['T'] / tau_v)))[1:]\n",
    "    new_tau = tns[1] - tns[0]\n",
    "    \n",
    "    for tn in tns:\n",
    "        l1 = _krank_nikols(l1, tn_current=tn, h=new_h, tau_v=new_tau)\n",
    "        result = np.append(result, l1)\n",
    "\n",
    "    result = pd.DataFrame(data=result.reshape(tns.shape[0]+1, -1), columns=h_values, index=np.append(0, tns))\n",
    "    result.index.name = 't_n'\n",
    "    result.columns.name = 'x_i'\n",
    "    return result"
   ]
  },
  {
   "cell_type": "markdown",
   "metadata": {},
   "source": [
    "### Нахождение $h_{min}$"
   ]
  },
  {
   "cell_type": "code",
   "execution_count": 143,
   "metadata": {},
   "outputs": [],
   "source": [
    "from typing import Callable\n",
    "\n",
    "\n",
    "def get_inaccuracy(y_current: float, y_prev: float) -> float: return np.abs(\n",
    "    (y_prev - y_current) / y_current)\n",
    "\n",
    "\n",
    "def condition(inaccuracy: float, p: int) -> bool: return inaccuracy <= 10e-4 * \\\n",
    "    (np.power(2, p+1) - 2) / 2\n",
    "\n",
    "\n",
    "def find_h(method: Callable[[float, float], pd.DataFrame], p: int) -> tuple:\n",
    "    h = data['h']\n",
    "    res = method(h, tau(h))\n",
    "\n",
    "    mid_value = res.loc[data['T']].median()\n",
    "\n",
    "    while(True):\n",
    "        h /= 2\n",
    "        res = method(h, tau(h))\n",
    "        new_mid_value =  res.loc[data['T']].median()\n",
    "\n",
    "        inaccuracy = get_inaccuracy(new_mid_value, mid_value)\n",
    "\n",
    "        if(condition(inaccuracy, p)):\n",
    "            mid_value = new_mid_value\n",
    "            break\n",
    "\n",
    "        mid_value = new_mid_value\n",
    "\n",
    "    return (h, res)\n"
   ]
  },
  {
   "cell_type": "code",
   "execution_count": 144,
   "metadata": {},
   "outputs": [],
   "source": [
    "def get_h_values(h_min) -> list: \n",
    "    return [data['h'] / np.power(2, i) for i in np.arange(round(np.log2(data['h'] / h_min))+1)]\n",
    "\n",
    "def get_tau_values(h_min) -> list:\n",
    "    return list(map(tau, get_h_values(h_min)))\n"
   ]
  },
  {
   "cell_type": "markdown",
   "metadata": {},
   "source": [
    "### Нахождение погрешностей при фиксированых $h_{min}$ и $\\tau_{min}$"
   ]
  },
  {
   "cell_type": "code",
   "execution_count": 145,
   "metadata": {},
   "outputs": [],
   "source": [
    "def get_inaccuracy_for_tau(method: Callable[[float, float], pd.DataFrame], h_min) -> tuple:\n",
    "    _tau = tau(h_min)\n",
    "    _h_values = get_h_values(h_min)\n",
    "\n",
    "    res = [method(_h_value, _tau).loc[data['T']].median()\n",
    "               for _h_value in _h_values]\n",
    "    results = [get_inaccuracy(res[i], res[i - 1])\n",
    "               for i in range(1, len(res))]\n",
    "\n",
    "    return (_h_values[1:], results)\n",
    "\n",
    "\n",
    "def get_inaccuracy_for_h(method: Callable[[float, float], pd.DataFrame], h_min) -> tuple:\n",
    "    _tau_values = get_tau_values(h_min)\n",
    "\n",
    "    res = [method(h_min, _tau_value).loc[data['T']].median()\n",
    "               for _tau_value in _tau_values]\n",
    "\n",
    "    results = [get_inaccuracy(res[i], res[i - 1])\n",
    "               for i in range(1, len(res))]\n",
    "\n",
    "    return (_tau_values[1:], results)\n"
   ]
  },
  {
   "cell_type": "code",
   "execution_count": 189,
   "metadata": {},
   "outputs": [],
   "source": [
    "def find_incrs_for_h_vals(method: Callable[[float, float], pd.DataFrame],\n",
    "                          h_vals: list,\n",
    "                          h_min: float):\n",
    "    _tau = tau(h_min)\n",
    "\n",
    "    res = [method(_h_value, _tau).loc[data['T']].median()\n",
    "               for _h_value in h_vals]\n",
    "    results = [get_inaccuracy(res[i], res[i - 1])\n",
    "               for i in range(1, len(res))]\n",
    "\n",
    "    return results\n",
    "\n",
    "def find_incrs_for_tau_vals(method: Callable[[float, float], pd.DataFrame],\n",
    "                          tau_vals: list,\n",
    "                          h_min: float):\n",
    "\n",
    "    res = [method(h_min, _tau_value).loc[data['T']].median()\n",
    "               for _tau_value in tau_vals]\n",
    "    results = [get_inaccuracy(res[i], res[i - 1])\n",
    "               for i in range(1, len(res))]\n",
    "\n",
    "    return results"
   ]
  },
  {
   "cell_type": "markdown",
   "metadata": {},
   "source": [
    "### Поиск $h_{min}$ для метода Лаосонена"
   ]
  },
  {
   "cell_type": "code",
   "execution_count": 147,
   "metadata": {},
   "outputs": [
    {
     "data": {
      "text/plain": [
       "0.025"
      ]
     },
     "execution_count": 147,
     "metadata": {},
     "output_type": "execute_result"
    }
   ],
   "source": [
    "laosonen_h, res = find_h(laosonen, 1)\n",
    "laosonen_h"
   ]
  },
  {
   "cell_type": "markdown",
   "metadata": {},
   "source": [
    "### Отборжение значений ДУ на $t_i$ слоях"
   ]
  },
  {
   "cell_type": "code",
   "execution_count": 148,
   "metadata": {},
   "outputs": [
    {
     "data": {
      "image/png": "[encoded data removed]",
      "text/plain": [
       "<Figure size 600x400 with 2 Axes>"
      ]
     },
     "metadata": {},
     "output_type": "display_data"
    }
   ],
   "source": [
    "print_contour(res)"
   ]
  },
  {
   "cell_type": "markdown",
   "metadata": {},
   "source": [
    "### Поиск $h_{min}$ для схемы \"Зонтик\""
   ]
  },
  {
   "cell_type": "code",
   "execution_count": 149,
   "metadata": {},
   "outputs": [
    {
     "data": {
      "text/plain": [
       "0.025"
      ]
     },
     "execution_count": 149,
     "metadata": {},
     "output_type": "execute_result"
    }
   ],
   "source": [
    "umbrella_h, res2 = find_h(umbrella, 1)\n",
    "umbrella_h"
   ]
  },
  {
   "cell_type": "markdown",
   "metadata": {},
   "source": [
    "### Отборжение значений ДУ на $t_i$ слоях"
   ]
  },
  {
   "cell_type": "code",
   "execution_count": 150,
   "metadata": {},
   "outputs": [
    {
     "data": {
      "image/png": "[encoded data removed]",
      "text/plain": [
       "<Figure size 600x400 with 2 Axes>"
      ]
     },
     "metadata": {},
     "output_type": "display_data"
    }
   ],
   "source": [
    "print_contour(res2)"
   ]
  },
  {
   "cell_type": "markdown",
   "metadata": {},
   "source": [
    "### Поиск $h_{min}$ для схемы Кранка-Николсона"
   ]
  },
  {
   "cell_type": "code",
   "execution_count": 151,
   "metadata": {},
   "outputs": [
    {
     "data": {
      "text/plain": [
       "0.025"
      ]
     },
     "execution_count": 151,
     "metadata": {},
     "output_type": "execute_result"
    }
   ],
   "source": [
    "h_krank_nicols, res3 = find_h(krank_nikols, 2)\n",
    "h_krank_nicols"
   ]
  },
  {
   "cell_type": "markdown",
   "metadata": {},
   "source": [
    "### Отборжение значений ДУ на $t_i$ слоях"
   ]
  },
  {
   "cell_type": "code",
   "execution_count": 152,
   "metadata": {},
   "outputs": [
    {
     "data": {
      "image/png": "[encoded data removed]",
      "text/plain": [
       "<Figure size 600x400 with 2 Axes>"
      ]
     },
     "metadata": {},
     "output_type": "display_data"
    }
   ],
   "source": [
    "print_contour(res3)"
   ]
  },
  {
   "cell_type": "markdown",
   "metadata": {},
   "source": [
    "### Для схемы Кранка-Николсона построим график погрешность в зависимости от шага $h$"
   ]
  },
  {
   "cell_type": "code",
   "execution_count": 164,
   "metadata": {},
   "outputs": [
    {
     "data": {
      "text/plain": [
       "[0.05, 0.025]"
      ]
     },
     "execution_count": 164,
     "metadata": {},
     "output_type": "execute_result"
    }
   ],
   "source": [
    "h_vals, incrs_vals = get_inaccuracy_for_tau(krank_nikols, h_krank_nicols)\n",
    "h_vals"
   ]
  },
  {
   "cell_type": "code",
   "execution_count": 190,
   "metadata": {},
   "outputs": [],
   "source": [
    "_h_values = [0.6, 0.3 , 0.15, 0.075, 0.032]"
   ]
  },
  {
   "cell_type": "code",
   "execution_count": 191,
   "metadata": {},
   "outputs": [
    {
     "data": {
      "text/plain": [
       "[0.00012493165249579264,\n",
       " 1.4261155207958412e-05,\n",
       " 3.5568968270401212e-06,\n",
       " 4.317923280508853e-07]"
      ]
     },
     "execution_count": 191,
     "metadata": {},
     "output_type": "execute_result"
    }
   ],
   "source": [
    "incrs_vals_for_h = find_incrs_for_h_vals(krank_nikols, _h_values , h_krank_nicols)\n",
    "incrs_vals_for_h"
   ]
  },
  {
   "cell_type": "code",
   "execution_count": 192,
   "metadata": {},
   "outputs": [
    {
     "data": {
      "text/plain": [
       "Text(0, 0.5, 'Ψh')"
      ]
     },
     "execution_count": 192,
     "metadata": {},
     "output_type": "execute_result"
    },
    {
     "data": {
      "image/png": "[encoded data removed]",
      "text/plain": [
       "<Figure size 600x600 with 1 Axes>"
      ]
     },
     "metadata": {},
     "output_type": "display_data"
    }
   ],
   "source": [
    "plt.figure(figsize=(6,6))\n",
    "plt.plot(np.log(_h_values[1:]), np.log(incrs_vals_for_h), marker='o')\n",
    "plt.xlabel('ln(h)')\n",
    "plt.ylabel('Ψh')"
   ]
  },
  {
   "cell_type": "markdown",
   "metadata": {},
   "source": [
    "### Практическая погрешность для $h$"
   ]
  },
  {
   "cell_type": "code",
   "execution_count": 194,
   "metadata": {},
   "outputs": [
    {
     "data": {
      "text/plain": [
       "array([ 2.47950775, -6.1753433 ])"
      ]
     },
     "execution_count": 194,
     "metadata": {},
     "output_type": "execute_result"
    }
   ],
   "source": [
    "np.polyfit(np.log(_h_values[1:]), np.log(incrs_vals_for_h), deg=1)"
   ]
  },
  {
   "cell_type": "markdown",
   "metadata": {},
   "source": [
    "### Для схемы Кранка-Николсона построим график погрешность в зависимости от шага $\\tau$"
   ]
  },
  {
   "cell_type": "code",
   "execution_count": 205,
   "metadata": {},
   "outputs": [],
   "source": [
    "tau_vals = [0.025, 0.0125, 0.0062, 0.0031]\n",
    "incrs_vals_for_tau = find_incrs_for_tau_vals(krank_nikols, tau_vals, h_krank_nicols)"
   ]
  },
  {
   "cell_type": "code",
   "execution_count": 206,
   "metadata": {},
   "outputs": [
    {
     "data": {
      "text/plain": [
       "[0.02295772997756906, 0.014126369495513586, 0.0071616775107656225]"
      ]
     },
     "execution_count": 206,
     "metadata": {},
     "output_type": "execute_result"
    }
   ],
   "source": [
    "incrs_vals_for_tau"
   ]
  },
  {
   "cell_type": "code",
   "execution_count": 207,
   "metadata": {},
   "outputs": [
    {
     "data": {
      "text/plain": [
       "Text(0, 0.5, 'Ψτ')"
      ]
     },
     "execution_count": 207,
     "metadata": {},
     "output_type": "execute_result"
    },
    {
     "data": {
      "image/png": "[encoded data removed]",
      "text/plain": [
       "<Figure size 600x600 with 1 Axes>"
      ]
     },
     "metadata": {},
     "output_type": "display_data"
    }
   ],
   "source": [
    "plt.figure(figsize=(6,6))\n",
    "plt.plot(np.log(tau_vals[1:]), np.log(incrs_vals_for_tau), marker='o')\n",
    "plt.xlabel('ln(τ)')\n",
    "plt.ylabel('Ψτ')"
   ]
  },
  {
   "cell_type": "markdown",
   "metadata": {},
   "source": [
    "### Практическая погрешность для $\\tau$"
   ]
  },
  {
   "cell_type": "code",
   "execution_count": 208,
   "metadata": {},
   "outputs": [
    {
     "data": {
      "text/plain": [
       "array([ 0.83518862, -0.08107488])"
      ]
     },
     "execution_count": 208,
     "metadata": {},
     "output_type": "execute_result"
    }
   ],
   "source": [
    "np.polyfit(np.log(tau_vals[1:]), np.log(incrs_vals_for_tau), deg=1)"
   ]
  }
 ],
 "metadata": {
  "kernelspec": {
   "display_name": "Python 3.9.7 ('base')",
   "language": "python",
   "name": "python3"
  },
  "language_info": {
   "codemirror_mode": {
    "name": "ipython",
    "version": 3
   },
   "file_extension": ".py",
   "mimetype": "text/x-python",
   "name": "python",
   "nbconvert_exporter": "python",
   "pygments_lexer": "ipython3",
   "version": "3.9.7"
  },
  "orig_nbformat": 4,
  "vscode": {
   "interpreter": {
    "hash": "f76d4fda128b12615e46e0e8dd834a222e7abd956eb53de74309670d1db4104c"
   }
  }
 },
 "nbformat": 4,
 "nbformat_minor": 2
}
